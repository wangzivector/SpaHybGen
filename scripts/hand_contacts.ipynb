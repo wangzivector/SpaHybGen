{
 "cells": [
  {
   "cell_type": "code",
   "execution_count": null,
   "metadata": {},
   "outputs": [],
   "source": [
    "import spahybgen.utils.utils_plotly as ut_plotly\n",
    "from spahybgen.handmodel import HandModel\n",
    "from plotly import graph_objects as go\n",
    "import os\n",
    "import json\n",
    "import trimesh as tm\n",
    "import numpy as np\n",
    "import torch\n",
    "\n",
    "os.chdir('/path to project/spahybgen')\n",
    "print(os.getcwd())"
   ]
  },
  {
   "cell_type": "markdown",
   "metadata": {},
   "source": [
    "### Visualize the hand contacts\n",
    "The red contacts are uniformly sampled on four-vertice regions stored in handmodel/properties/contact_custom_hand.json files."
   ]
  },
  {
   "cell_type": "code",
   "execution_count": null,
   "metadata": {},
   "outputs": [],
   "source": [
    "robot_name = 'finray4f'\n",
    "orientation_type = 'R6d'\n",
    "batch_size = 1\n",
    "hand_model = HandModel.load_hand_from_json(robot_name, batch_size)\n",
    "\n",
    "init_opt_q = torch.zeros(batch_size, (3 + 6) + hand_model.actuate_dofs, device='cuda')\n",
    "init_opt_q[:, :3] = torch.tensor([0.0, 0.0, 0.0], device='cuda')\n",
    "init_opt_q[:, 3:9] = torch.tensor([1., 0., 0., 0., 1., 0.], device='cuda')\n",
    "init_opt_q[:, 9:] = (hand_model.joints_q_lower + hand_model.joints_q_upper)/2\n",
    "\n",
    "vis_data = hand_model.get_plotly_data(init_opt_q, color='lightblue', opacity=0.6)\n",
    "\n",
    "contact_points, contact_normals = hand_model.get_sampled_contact_points_and_normal(q=init_opt_q)\n",
    "vis_data.append(ut_plotly.plot_point_cloud(pts=contact_points.cpu().squeeze(0), color='red'))\n",
    "fig = go.Figure(data=vis_data)\n",
    "fig.show()\n"
   ]
  },
  {
   "cell_type": "markdown",
   "metadata": {},
   "source": [
    "## Choose four vertices of targeted contact regions \n",
    "The following code visualize all stl parts of the robotic hand.\n",
    "Hovering the cursor to the vertices of targeted contact regions to inspect the labels, and add the number labels of four vertices (in counter-clockwise sequence) for every desired contact regions to the contact_custom_hand.json file."
   ]
  },
  {
   "cell_type": "code",
   "execution_count": null,
   "metadata": {},
   "outputs": [],
   "source": [
    "robot_name = 'finray4f'\n",
    "base_path = \"/path to project/spahybgen/\" + \"handmodel/urdf/\" + robot_name + \"/meshes/\"\n",
    "\n",
    "mesh_i = 0\n",
    "for mesh_i in range(len(hand_model.robot_full.links)):\n",
    "    if len(hand_model.robot_full.links[mesh_i].visuals) == 0: continue\n",
    "    mesh_path = hand_model.robot_full.links[mesh_i].visuals[0].geometry.filename\n",
    "    link_name = hand_model.robot_full.links[mesh_i].name\n",
    "    if link_name[:6] != 'thumb_': continue \n",
    "    print('\"' + link_name + '\"', ': [, , , ],')\n",
    "\n",
    "    mesh = tm.load(base_path + mesh_path, force='mesh', process=False)\n",
    "    vertices = np.array(mesh.vertices)\n",
    "    faces = np.array(mesh.faces)\n",
    "    vis_data = []\n",
    "    vis_data.append(go.Mesh3d(x=vertices[:, 0], y=vertices[:, 1], z=vertices[:, 2], \n",
    "    i=faces[:, 0], j=faces[:, 1], k=faces[:, 2], color=\"lightblue\", opacity=1.0, hovertext=[str(hi) for hi in range(vertices.shape[0])]))\n",
    "    # indxs = np.array([1823, 1809, 1804, 1828])\n",
    "    # vis_data.append(ut_plotly.plot_point_cloud(pts=vertices[indxs, :], color='red'))\n",
    "    fig = go.Figure(data=vis_data).show()"
   ]
  }
 ],
 "metadata": {
  "kernelspec": {
   "display_name": "spahybgen",
   "language": "python",
   "name": "python3"
  },
  "language_info": {
   "codemirror_mode": {
    "name": "ipython",
    "version": 3
   },
   "file_extension": ".py",
   "mimetype": "text/x-python",
   "name": "python",
   "nbconvert_exporter": "python",
   "pygments_lexer": "ipython3",
   "version": "3.8.18"
  },
  "orig_nbformat": 4,
  "vscode": {
   "interpreter": {
    "hash": "e05b6b8d54241cd539d09220b5da76eb05b7fe8a2f6d7ff40f74c00638d93eec"
   }
  }
 },
 "nbformat": 4,
 "nbformat_minor": 2
}
